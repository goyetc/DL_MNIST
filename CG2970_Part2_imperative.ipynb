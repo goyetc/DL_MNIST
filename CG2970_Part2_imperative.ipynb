{
  "nbformat": 4,
  "nbformat_minor": 0,
  "metadata": {
    "colab": {
      "name": "CG2970_Part2_imperative.ipynb",
      "provenance": [],
      "collapsed_sections": [],
      "include_colab_link": true
    },
    "kernelspec": {
      "name": "python3",
      "display_name": "Python 3"
    },
    "accelerator": "GPU"
  },
  "cells": [
    {
      "cell_type": "markdown",
      "metadata": {
        "id": "view-in-github",
        "colab_type": "text"
      },
      "source": [
        "<a href=\"https://colab.research.google.com/github/goyetc/DL_MNIST/blob/master/CG2970_Part2_imperative.ipynb\" target=\"_parent\"><img src=\"https://colab.research.google.com/assets/colab-badge.svg\" alt=\"Open In Colab\"/></a>"
      ]
    },
    {
      "cell_type": "markdown",
      "metadata": {
        "id": "IfD5skKHXe5C",
        "colab_type": "text"
      },
      "source": [
        "#Applied Deep Learning Homework 1 - Part 2 - Subclassing\n",
        "* Colin Goyette - cg2970\n"
      ]
    },
    {
      "cell_type": "markdown",
      "metadata": {
        "id": "s-znjMvmXSSq",
        "colab_type": "text"
      },
      "source": [
        "##Pre-work.. import data, observe shape, etc."
      ]
    },
    {
      "cell_type": "code",
      "metadata": {
        "id": "U2iBK_dQTwds",
        "colab_type": "code",
        "outputId": "11f0906f-238b-4dc0-d395-3219ca808307",
        "colab": {
          "base_uri": "https://localhost:8080/",
          "height": 343
        }
      },
      "source": [
        "!pip install tf-nightly-2.0-preview"
      ],
      "execution_count": 0,
      "outputs": [
        {
          "output_type": "stream",
          "text": [
            "Requirement already satisfied: tf-nightly-2.0-preview in /usr/local/lib/python3.6/dist-packages (2.0.0.dev20190214)\n",
            "Requirement already satisfied: numpy<2.0,>=1.14.5 in /usr/local/lib/python3.6/dist-packages (from tf-nightly-2.0-preview) (1.14.6)\n",
            "Requirement already satisfied: six>=1.10.0 in /usr/local/lib/python3.6/dist-packages (from tf-nightly-2.0-preview) (1.11.0)\n",
            "Requirement already satisfied: protobuf>=3.6.1 in /usr/local/lib/python3.6/dist-packages (from tf-nightly-2.0-preview) (3.6.1)\n",
            "Requirement already satisfied: keras-preprocessing>=1.0.5 in /usr/local/lib/python3.6/dist-packages (from tf-nightly-2.0-preview) (1.0.9)\n",
            "Requirement already satisfied: grpcio>=1.8.6 in /usr/local/lib/python3.6/dist-packages (from tf-nightly-2.0-preview) (1.15.0)\n",
            "Requirement already satisfied: absl-py>=0.1.6 in /usr/local/lib/python3.6/dist-packages (from tf-nightly-2.0-preview) (0.7.0)\n",
            "Requirement already satisfied: tb-nightly<1.14.0a0,>=1.13.0a0 in /usr/local/lib/python3.6/dist-packages (from tf-nightly-2.0-preview) (1.13.0a20190214)\n",
            "Requirement already satisfied: tensorflow-estimator-2.0-preview in /usr/local/lib/python3.6/dist-packages (from tf-nightly-2.0-preview) (1.14.0.dev2019021400)\n",
            "Requirement already satisfied: wheel>=0.26 in /usr/local/lib/python3.6/dist-packages (from tf-nightly-2.0-preview) (0.32.3)\n",
            "Requirement already satisfied: gast>=0.2.0 in /usr/local/lib/python3.6/dist-packages (from tf-nightly-2.0-preview) (0.2.2)\n",
            "Requirement already satisfied: astor>=0.6.0 in /usr/local/lib/python3.6/dist-packages (from tf-nightly-2.0-preview) (0.7.1)\n",
            "Requirement already satisfied: termcolor>=1.1.0 in /usr/local/lib/python3.6/dist-packages (from tf-nightly-2.0-preview) (1.1.0)\n",
            "Requirement already satisfied: keras-applications>=1.0.6 in /usr/local/lib/python3.6/dist-packages (from tf-nightly-2.0-preview) (1.0.7)\n",
            "Requirement already satisfied: google-pasta>=0.1.1 in /usr/local/lib/python3.6/dist-packages (from tf-nightly-2.0-preview) (0.1.3)\n",
            "Requirement already satisfied: setuptools in /usr/local/lib/python3.6/dist-packages (from protobuf>=3.6.1->tf-nightly-2.0-preview) (40.8.0)\n",
            "Requirement already satisfied: markdown>=2.6.8 in /usr/local/lib/python3.6/dist-packages (from tb-nightly<1.14.0a0,>=1.13.0a0->tf-nightly-2.0-preview) (3.0.1)\n",
            "Requirement already satisfied: werkzeug>=0.11.15 in /usr/local/lib/python3.6/dist-packages (from tb-nightly<1.14.0a0,>=1.13.0a0->tf-nightly-2.0-preview) (0.14.1)\n",
            "Requirement already satisfied: h5py in /usr/local/lib/python3.6/dist-packages (from keras-applications>=1.0.6->tf-nightly-2.0-preview) (2.8.0)\n"
          ],
          "name": "stdout"
        }
      ]
    },
    {
      "cell_type": "code",
      "metadata": {
        "id": "fohz9hRVT3rV",
        "colab_type": "code",
        "outputId": "0d97b35f-db59-4532-cc3f-a7f493af3b5e",
        "colab": {
          "base_uri": "https://localhost:8080/",
          "height": 51
        }
      },
      "source": [
        "import tensorflow as tf"
      ],
      "execution_count": 0,
      "outputs": [
        {
          "output_type": "stream",
          "text": [
            "Limited tf.compat.v2.summary API due to missing TensorBoard installation\n",
            "Limited tf.summary API due to missing TensorBoard installation\n"
          ],
          "name": "stdout"
        }
      ]
    },
    {
      "cell_type": "code",
      "metadata": {
        "id": "YXak8_sgaExK",
        "colab_type": "code",
        "colab": {}
      },
      "source": [
        "from __future__ import absolute_import, division, print_function"
      ],
      "execution_count": 0,
      "outputs": []
    },
    {
      "cell_type": "code",
      "metadata": {
        "id": "u23WKsn_T9_I",
        "colab_type": "code",
        "outputId": "4e6521f1-c6f9-4181-a5bd-1fe98b503fc6",
        "colab": {
          "base_uri": "https://localhost:8080/",
          "height": 34
        }
      },
      "source": [
        "print(\"You have version\", tf.__version__)\n",
        "assert tf.__version__ >= \"2.0\" #TF2.0 req"
      ],
      "execution_count": 0,
      "outputs": [
        {
          "output_type": "stream",
          "text": [
            "You have version 2.0.0-dev20190214\n"
          ],
          "name": "stdout"
        }
      ]
    },
    {
      "cell_type": "code",
      "metadata": {
        "id": "y9KC4gfiUGxh",
        "colab_type": "code",
        "colab": {}
      },
      "source": [
        "import numpy as np\n",
        "\n",
        "from tensorflow.keras import Model\n",
        "from tensorflow.keras.layers import Dense, Flatten"
      ],
      "execution_count": 0,
      "outputs": []
    },
    {
      "cell_type": "code",
      "metadata": {
        "colab_type": "code",
        "outputId": "102d7acf-f2d2-41b6-ce6a-f842ded97d95",
        "id": "e2im6CoCMNAg",
        "colab": {
          "base_uri": "https://localhost:8080/",
          "height": 34
        }
      },
      "source": [
        "# TensorFlow and tf.keras\n",
        "from tensorflow import keras\n",
        "# Helper libraries\n",
        "import numpy as np\n",
        "import matplotlib.pyplot as plt\n",
        "\n",
        "print(tf.__version__)"
      ],
      "execution_count": 0,
      "outputs": [
        {
          "output_type": "stream",
          "text": [
            "2.0.0-dev20190214\n"
          ],
          "name": "stdout"
        }
      ]
    },
    {
      "cell_type": "code",
      "metadata": {
        "id": "O98RPce2aO-F",
        "colab_type": "code",
        "colab": {}
      },
      "source": [
        "fashion_mnist = keras.datasets.fashion_mnist"
      ],
      "execution_count": 0,
      "outputs": []
    },
    {
      "cell_type": "code",
      "metadata": {
        "id": "SxH7Bedza3XN",
        "colab_type": "code",
        "colab": {}
      },
      "source": [
        "(train_images, train_labels), (test_images, test_labels) = fashion_mnist.load_data()"
      ],
      "execution_count": 0,
      "outputs": []
    },
    {
      "cell_type": "code",
      "metadata": {
        "id": "DkqnamDda74q",
        "colab_type": "code",
        "colab": {}
      },
      "source": [
        "class_names = ['T-shirt/top', 'Trouser', 'Pullover', 'Dress', 'Coat', \n",
        "               'Sandal', 'Shirt', 'Sneaker', 'Bag', 'Ankle boot']"
      ],
      "execution_count": 0,
      "outputs": []
    },
    {
      "cell_type": "code",
      "metadata": {
        "id": "m0eB3vcPduun",
        "colab_type": "code",
        "outputId": "3a4545c0-915f-48dd-df0a-ee50261177a9",
        "colab": {
          "base_uri": "https://localhost:8080/",
          "height": 34
        }
      },
      "source": [
        "train_images.shape"
      ],
      "execution_count": 0,
      "outputs": [
        {
          "output_type": "execute_result",
          "data": {
            "text/plain": [
              "(60000, 28, 28)"
            ]
          },
          "metadata": {
            "tags": []
          },
          "execution_count": 12
        }
      ]
    },
    {
      "cell_type": "code",
      "metadata": {
        "id": "EEN47TSHdwo9",
        "colab_type": "code",
        "outputId": "0da42ad6-a94d-4b6e-9895-238c955e8549",
        "colab": {
          "base_uri": "https://localhost:8080/",
          "height": 34
        }
      },
      "source": [
        "len(train_labels)"
      ],
      "execution_count": 0,
      "outputs": [
        {
          "output_type": "execute_result",
          "data": {
            "text/plain": [
              "60000"
            ]
          },
          "metadata": {
            "tags": []
          },
          "execution_count": 13
        }
      ]
    },
    {
      "cell_type": "code",
      "metadata": {
        "id": "NaLehoNddyld",
        "colab_type": "code",
        "outputId": "304d2406-eada-4d9b-cc1e-31c03f48e0b2",
        "colab": {
          "base_uri": "https://localhost:8080/",
          "height": 34
        }
      },
      "source": [
        "train_labels"
      ],
      "execution_count": 0,
      "outputs": [
        {
          "output_type": "execute_result",
          "data": {
            "text/plain": [
              "array([9, 0, 0, ..., 3, 0, 5], dtype=uint8)"
            ]
          },
          "metadata": {
            "tags": []
          },
          "execution_count": 14
        }
      ]
    },
    {
      "cell_type": "code",
      "metadata": {
        "id": "u1MulcRqd05P",
        "colab_type": "code",
        "outputId": "05440cfc-5d2e-4415-9a50-055252291d0a",
        "colab": {
          "base_uri": "https://localhost:8080/",
          "height": 34
        }
      },
      "source": [
        "test_images.shape"
      ],
      "execution_count": 0,
      "outputs": [
        {
          "output_type": "execute_result",
          "data": {
            "text/plain": [
              "(10000, 28, 28)"
            ]
          },
          "metadata": {
            "tags": []
          },
          "execution_count": 15
        }
      ]
    },
    {
      "cell_type": "code",
      "metadata": {
        "id": "qSFLY2n-d4UQ",
        "colab_type": "code",
        "outputId": "ea7e34f6-daed-43ac-9e0f-c9d5651c026c",
        "colab": {
          "base_uri": "https://localhost:8080/",
          "height": 34
        }
      },
      "source": [
        "len(test_labels)"
      ],
      "execution_count": 0,
      "outputs": [
        {
          "output_type": "execute_result",
          "data": {
            "text/plain": [
              "10000"
            ]
          },
          "metadata": {
            "tags": []
          },
          "execution_count": 16
        }
      ]
    },
    {
      "cell_type": "code",
      "metadata": {
        "id": "hxC2ksNufp_9",
        "colab_type": "code",
        "outputId": "87c61a53-cd4c-4023-ec9a-162ef5abdc68",
        "colab": {
          "base_uri": "https://localhost:8080/",
          "height": 34
        }
      },
      "source": [
        "test_labels[:10]"
      ],
      "execution_count": 0,
      "outputs": [
        {
          "output_type": "execute_result",
          "data": {
            "text/plain": [
              "array([9, 2, 1, 1, 6, 1, 4, 6, 5, 7], dtype=uint8)"
            ]
          },
          "metadata": {
            "tags": []
          },
          "execution_count": 17
        }
      ]
    },
    {
      "cell_type": "code",
      "metadata": {
        "id": "__4AUsOYd5Sw",
        "colab_type": "code",
        "outputId": "3fe8c2dc-6695-4f75-b71e-a891f02ed356",
        "colab": {
          "base_uri": "https://localhost:8080/",
          "height": 347
        }
      },
      "source": [
        "plt.figure()\n",
        "plt.imshow(train_images[0])\n",
        "plt.colorbar()\n",
        "plt.grid(False)\n",
        "plt.show()"
      ],
      "execution_count": 0,
      "outputs": [
        {
          "output_type": "display_data",
          "data": {
            "image/png": "[encoded data removed]",
            "text/plain": [
              "<Figure size 576x396 with 2 Axes>"
            ]
          },
          "metadata": {
            "tags": []
          }
        }
      ]
    },
    {
      "cell_type": "code",
      "metadata": {
        "id": "rVdLCCHbeJVC",
        "colab_type": "code",
        "colab": {}
      },
      "source": [
        "train_images = train_images / 255.0\n",
        "\n",
        "test_images = test_images / 255.0"
      ],
      "execution_count": 0,
      "outputs": []
    },
    {
      "cell_type": "code",
      "metadata": {
        "id": "1quacQC6eYFK",
        "colab_type": "code",
        "outputId": "5623d9fb-3334-409c-be01-dcf10814a371",
        "colab": {
          "base_uri": "https://localhost:8080/",
          "height": 589
        }
      },
      "source": [
        "plt.figure(figsize=(10,10))\n",
        "for i in range(25):\n",
        "    plt.subplot(5,5,i+1)\n",
        "    plt.xticks([])\n",
        "    plt.yticks([])\n",
        "    plt.grid(False)\n",
        "    plt.imshow(train_images[i], cmap=plt.cm.binary)\n",
        "    plt.xlabel(class_names[train_labels[i]])\n",
        "plt.show()"
      ],
      "execution_count": 0,
      "outputs": [
        {
          "output_type": "display_data",
          "data": {
            "image/png": "[encoded data removed]",
            "text/plain": [
              "<Figure size 720x720 with 25 Axes>"
            ]
          },
          "metadata": {
            "tags": []
          }
        }
      ]
    },
    {
      "cell_type": "markdown",
      "metadata": {
        "id": "-ARCdFEjBvJB",
        "colab_type": "text"
      },
      "source": [
        "## P2-5: Implement and train a linear model to classify this dataset. Evaluate it by producing a plot that compares the training and validation accuracy. Include this plot with your submission.\n",
        "* Based on https://github.com/random-forests/applied-dl/blob/master/examples/2.2-hello-subclassing.ipynb"
      ]
    },
    {
      "cell_type": "code",
      "metadata": {
        "id": "KDIxWeGqUWqM",
        "colab_type": "code",
        "colab": {}
      },
      "source": [
        "BATCH_SIZE = 128\n",
        "BUFFER_SIZE = len(train_images)\n",
        "\n",
        "mnist_train = tf.data.Dataset.from_tensor_slices((train_images, train_labels)).shuffle(BUFFER_SIZE).batch(BATCH_SIZE)\n",
        "mnist_test = tf.data.Dataset.from_tensor_slices((test_images, test_labels)).batch(BATCH_SIZE)\n"
      ],
      "execution_count": 0,
      "outputs": []
    },
    {
      "cell_type": "code",
      "metadata": {
        "id": "en6GSV18Ul_W",
        "colab_type": "code",
        "colab": {}
      },
      "source": [
        "class MyModel(Model):\n",
        "  def __init__(self):\n",
        "    super(MyModel, self).__init__()\n",
        "    self.flatten = Flatten()\n",
        "    #Note: we eliminate the following layer from the sample/base neural network in the imperative style for a linear classifier\n",
        "    #self.d1 = Dense(128, activation = 'relu')\n",
        "    self.d2 = Dense(10, activation = 'softmax')\n",
        "    \n",
        "  def call(self, x):\n",
        "    x = self.flatten(x)\n",
        "    #x = self.d1(x)\n",
        "    return self.d2(x)\n",
        "\n",
        "model = MyModel()"
      ],
      "execution_count": 0,
      "outputs": []
    },
    {
      "cell_type": "code",
      "metadata": {
        "id": "X_Tnh_lvVE2j",
        "colab_type": "code",
        "colab": {}
      },
      "source": [
        "loss_function = tf.keras.losses.SparseCategoricalCrossentropy(from_logits=False)\n",
        "optimizer = tf.keras.optimizers.Adam()"
      ],
      "execution_count": 0,
      "outputs": []
    },
    {
      "cell_type": "code",
      "metadata": {
        "id": "SpTQep-LWccH",
        "colab_type": "code",
        "colab": {}
      },
      "source": [
        "train_loss_metric = tf.keras.metrics.Mean(name='train_loss')\n",
        "test_loss_metric = tf.keras.metrics.Mean(name='test_loss')\n",
        "\n",
        "train_accuracy_metric = tf.keras.metrics.SparseCategoricalAccuracy(name='train_accuracy')\n",
        "test_accuracy_metric = tf.keras.metrics.SparseCategoricalAccuracy(name='test_accuracy')"
      ],
      "execution_count": 0,
      "outputs": []
    },
    {
      "cell_type": "code",
      "metadata": {
        "id": "VPAR-nehWkKq",
        "colab_type": "code",
        "colab": {}
      },
      "source": [
        "def train_step(images, labels):\n",
        "  with tf.GradientTape() as tape:    \n",
        "    # Forward pass\n",
        "    predictions = model(images)\n",
        "    train_loss = loss_function(y_true=labels, y_pred=predictions)\n",
        "  \n",
        "  # Backward pass\n",
        "  gradients = tape.gradient(train_loss, model.trainable_variables)\n",
        "  optimizer.apply_gradients(zip(gradients, model.trainable_variables))\n",
        "\n",
        "  # Record results\n",
        "  train_loss_metric(train_loss)\n",
        "  train_accuracy_metric(labels, predictions)"
      ],
      "execution_count": 0,
      "outputs": []
    },
    {
      "cell_type": "code",
      "metadata": {
        "id": "ypa7V-OfXFWm",
        "colab_type": "code",
        "colab": {}
      },
      "source": [
        "def test_step(images, labels):\n",
        "  predictions = model(images)\n",
        "  test_loss = loss_function(y_true=labels, y_pred=predictions)\n",
        "  \n",
        "  # Record results\n",
        "  test_loss_metric(test_loss)\n",
        "  test_accuracy_metric(labels, predictions)"
      ],
      "execution_count": 0,
      "outputs": []
    },
    {
      "cell_type": "code",
      "metadata": {
        "id": "gD17rsTgMA33",
        "colab_type": "code",
        "colab": {}
      },
      "source": [
        "#for storing results for accuracy plot. note, I started with \"0\" to start the plot from the origin, but this skews the scale so much, I omitted in the subsequent plot\n",
        "train_acc = [0]\n",
        "test_acc = [0]\n"
      ],
      "execution_count": 0,
      "outputs": []
    },
    {
      "cell_type": "code",
      "metadata": {
        "id": "Q0FWXYORXHrf",
        "colab_type": "code",
        "outputId": "c597dc98-038d-4405-9d14-8ce7d5cc628c",
        "colab": {
          "base_uri": "https://localhost:8080/",
          "height": 188
        }
      },
      "source": [
        "EPOCHS = 10\n",
        "\n",
        "for epoch in range(EPOCHS):\n",
        "  for images, labels in mnist_train:\n",
        "    train_step(images, labels)\n",
        "  \n",
        "  for test_images, test_labels in mnist_test:\n",
        "    test_step(test_images, test_labels)\n",
        "  \n",
        "  template = 'Epoch {}, Loss: {:.4f}, Accuracy: {:.2f}, Test loss: {:.4f}, Test accuracy: {:.2f}'\n",
        "  \n",
        "  train_acc.append(train_accuracy_metric.result() * 100)\n",
        "  \n",
        "  test_acc.append(test_accuracy_metric.result() * 100)\n",
        "  \n",
        "  print (template.format(epoch +1, \n",
        "                         train_loss_metric.result(), \n",
        "                         train_accuracy_metric.result() * 100, \n",
        "                         test_loss_metric.result(), \n",
        "                         test_accuracy_metric.result() * 100))\n",
        "  "
      ],
      "execution_count": 0,
      "outputs": [
        {
          "output_type": "stream",
          "text": [
            "Epoch 1, Loss: 0.7403, Accuracy: 75.75, Test loss: 0.5792, Test accuracy: 79.91\n",
            "Epoch 2, Loss: 0.6275, Accuracy: 79.25, Test loss: 0.5500, Test accuracy: 80.90\n",
            "Epoch 3, Loss: 0.5761, Accuracy: 80.83, Test loss: 0.5321, Test accuracy: 81.52\n",
            "Epoch 4, Loss: 0.5450, Accuracy: 81.80, Test loss: 0.5197, Test accuracy: 81.95\n",
            "Epoch 5, Loss: 0.5235, Accuracy: 82.47, Test loss: 0.5105, Test accuracy: 82.24\n",
            "Epoch 6, Loss: 0.5076, Accuracy: 82.96, Test loss: 0.5034, Test accuracy: 82.47\n",
            "Epoch 7, Loss: 0.4951, Accuracy: 83.34, Test loss: 0.4977, Test accuracy: 82.65\n",
            "Epoch 8, Loss: 0.4850, Accuracy: 83.65, Test loss: 0.4930, Test accuracy: 82.81\n",
            "Epoch 9, Loss: 0.4766, Accuracy: 83.90, Test loss: 0.4891, Test accuracy: 82.94\n",
            "Epoch 10, Loss: 0.4695, Accuracy: 84.12, Test loss: 0.4858, Test accuracy: 83.05\n"
          ],
          "name": "stdout"
        }
      ]
    },
    {
      "cell_type": "markdown",
      "metadata": {
        "id": "jioVH6vnX5mk",
        "colab_type": "text"
      },
      "source": [
        "*Note that it is prettty odd we are getting better accuracy to start on the test set.. pure luck? Seems to be the only explanation\n",
        "\n",
        "*Also worth noting that the accuracy achieved using this approach to a linear model is very similar to that of the sequential method"
      ]
    },
    {
      "cell_type": "code",
      "metadata": {
        "id": "ZgllWG8pFRZM",
        "colab_type": "code",
        "colab": {}
      },
      "source": [
        "#debug\n",
        "#print(train_acc), print(test_acc)"
      ],
      "execution_count": 0,
      "outputs": []
    },
    {
      "cell_type": "markdown",
      "metadata": {
        "id": "K5d6drTTOIrJ",
        "colab_type": "text"
      },
      "source": [
        "### Accuracy of train/validation set for linear classifier in subclassing style"
      ]
    },
    {
      "cell_type": "code",
      "metadata": {
        "colab_type": "code",
        "outputId": "065eb534-5381-46b0-c8bd-d184783ee4a4",
        "id": "9wRYUTgtQPrW",
        "colab": {
          "base_uri": "https://localhost:8080/",
          "height": 376
        }
      },
      "source": [
        "import matplotlib.pyplot as plt\n",
        "\n",
        "\n",
        "# Plot training & validation accuracy values\n",
        "plt.plot(train_acc[1:])\n",
        "plt.plot(test_acc[1:])\n",
        "plt.title('Model accuracy: Linear Model using Keras-Subclassing ')\n",
        "plt.ylabel('Accuracy')\n",
        "plt.xlabel('Epoch')\n",
        "plt.legend(['Train', 'Validation'], loc='upper left')\n",
        "plt.show()"
      ],
      "execution_count": 0,
      "outputs": [
        {
          "output_type": "display_data",
          "data": {
            "image/png": "[encoded data removed]",
            "text/plain": [
              "<Figure size 576x396 with 1 Axes>"
            ]
          },
          "metadata": {
            "tags": []
          }
        }
      ]
    },
    {
      "cell_type": "markdown",
      "metadata": {
        "id": "q_td8FUQeasz",
        "colab_type": "text"
      },
      "source": [
        "Note: Epoch \"0\" is actually Epoch 1.. there's no streamlined way in matplotlib to adjust the axis w/o altering formatting in a negative manner"
      ]
    },
    {
      "cell_type": "markdown",
      "metadata": {
        "id": "ArxLrwCRDaSM",
        "colab_type": "text"
      },
      "source": [
        "##P2-6 Deep Network\n",
        "* Experimented with several additional dense layers\n",
        "* Decent accuracy improvement over linear model, and beats approach used in teh sequential section of this assignment that I based on an online tutorial (cited)"
      ]
    },
    {
      "cell_type": "code",
      "metadata": {
        "colab_type": "code",
        "id": "DuoYMw3qaeDr",
        "colab": {}
      },
      "source": [
        "BATCH_SIZE = 128\n",
        "BUFFER_SIZE = len(train_images)\n",
        "\n",
        "mnist_train = tf.data.Dataset.from_tensor_slices((train_images, train_labels)).shuffle(BUFFER_SIZE).batch(BATCH_SIZE)\n",
        "mnist_test = tf.data.Dataset.from_tensor_slices((test_images, test_labels)).batch(BATCH_SIZE)\n"
      ],
      "execution_count": 0,
      "outputs": []
    },
    {
      "cell_type": "code",
      "metadata": {
        "colab_type": "code",
        "id": "puBm-IE9DY-h",
        "colab": {}
      },
      "source": [
        "class MyModel(Model):\n",
        "  def __init__(self):\n",
        "    super(MyModel, self).__init__()\n",
        "    self.flatten = Flatten()\n",
        "    self.d1 = Dense(256, activation = 'relu')\n",
        "    self.d2 = Dense(128, activation = 'relu')\n",
        "    self.d3 = Dense(64, activation = 'relu')\n",
        "    self.d4 = Dense(10, activation = 'softmax')\n",
        "    \n",
        "  def call(self, x):\n",
        "    x = self.flatten(x)\n",
        "    x = self.d1(x)\n",
        "    x = self.d2(x)\n",
        "    x = self.d3(x)\n",
        "    return self.d4(x)\n",
        "\n",
        "model = MyModel()"
      ],
      "execution_count": 0,
      "outputs": []
    },
    {
      "cell_type": "code",
      "metadata": {
        "colab_type": "code",
        "id": "5qUQ5o0bDY-j",
        "colab": {}
      },
      "source": [
        "loss_function = tf.keras.losses.SparseCategoricalCrossentropy(from_logits=False)\n",
        "optimizer = tf.keras.optimizers.Adam()"
      ],
      "execution_count": 0,
      "outputs": []
    },
    {
      "cell_type": "code",
      "metadata": {
        "colab_type": "code",
        "id": "-iJPjIhFDY-n",
        "colab": {}
      },
      "source": [
        "train_loss_metric = tf.keras.metrics.Mean(name='train_loss')\n",
        "test_loss_metric = tf.keras.metrics.Mean(name='test_loss')\n",
        "\n",
        "train_accuracy_metric = tf.keras.metrics.SparseCategoricalAccuracy(name='train_accuracy')\n",
        "test_accuracy_metric = tf.keras.metrics.SparseCategoricalAccuracy(name='test_accuracy')"
      ],
      "execution_count": 0,
      "outputs": []
    },
    {
      "cell_type": "code",
      "metadata": {
        "colab_type": "code",
        "id": "pepq5EatDY-p",
        "colab": {}
      },
      "source": [
        "def train_step(images, labels):\n",
        "  with tf.GradientTape() as tape:    \n",
        "    # Forward pass\n",
        "    predictions = model(images)\n",
        "    train_loss = loss_function(y_true=labels, y_pred=predictions)\n",
        "  \n",
        "  # Backward pass\n",
        "  gradients = tape.gradient(train_loss, model.trainable_variables)\n",
        "  optimizer.apply_gradients(zip(gradients, model.trainable_variables))\n",
        "\n",
        "  # Record results\n",
        "  train_loss_metric(train_loss)\n",
        "  train_accuracy_metric(labels, predictions)"
      ],
      "execution_count": 0,
      "outputs": []
    },
    {
      "cell_type": "code",
      "metadata": {
        "colab_type": "code",
        "id": "7j9qrjj1DY-t",
        "colab": {}
      },
      "source": [
        "def test_step(images, labels):\n",
        "  predictions = model(images)\n",
        "  test_loss = loss_function(y_true=labels, y_pred=predictions)\n",
        "  \n",
        "  # Record results\n",
        "  test_loss_metric(test_loss)\n",
        "  test_accuracy_metric(labels, predictions)"
      ],
      "execution_count": 0,
      "outputs": []
    },
    {
      "cell_type": "code",
      "metadata": {
        "colab_type": "code",
        "outputId": "5e6b9713-6a89-4bbd-f570-658717ec9d6b",
        "id": "sirCSguHDY-v",
        "colab": {
          "base_uri": "https://localhost:8080/",
          "height": 188
        }
      },
      "source": [
        "EPOCHS = 10\n",
        "\n",
        "for epoch in range(EPOCHS):\n",
        "  for images, labels in mnist_train:\n",
        "    train_step(images, labels)\n",
        "  \n",
        "  for test_images, test_labels in mnist_test:\n",
        "    test_step(test_images, test_labels)\n",
        "  \n",
        "  template = 'Epoch {}, Loss: {:.4f}, Accuracy: {:.2f}, Test loss: {:.4f}, Test accuracy: {:.2f}'\n",
        "  print (template.format(epoch +1, \n",
        "                         train_loss_metric.result(), \n",
        "                         train_accuracy_metric.result() * 100, \n",
        "                         test_loss_metric.result(), \n",
        "                         test_accuracy_metric.result() * 100))"
      ],
      "execution_count": 0,
      "outputs": [
        {
          "output_type": "stream",
          "text": [
            "Epoch 1, Loss: 0.5265, Accuracy: 81.39, Test loss: 0.3806, Test accuracy: 87.50\n",
            "Epoch 2, Loss: 0.4512, Accuracy: 83.85, Test loss: 0.3475, Test accuracy: 87.50\n",
            "Epoch 3, Loss: 0.4123, Accuracy: 85.16, Test loss: 0.3253, Test accuracy: 87.50\n",
            "Epoch 4, Loss: 0.3861, Accuracy: 86.04, Test loss: 0.3057, Test accuracy: 89.06\n",
            "Epoch 5, Loss: 0.3662, Accuracy: 86.71, Test loss: 0.2919, Test accuracy: 90.00\n",
            "Epoch 6, Loss: 0.3502, Accuracy: 87.24, Test loss: 0.2864, Test accuracy: 90.62\n",
            "Epoch 7, Loss: 0.3369, Accuracy: 87.70, Test loss: 0.2769, Test accuracy: 91.07\n",
            "Epoch 8, Loss: 0.3254, Accuracy: 88.08, Test loss: 0.2631, Test accuracy: 91.41\n",
            "Epoch 9, Loss: 0.3152, Accuracy: 88.43, Test loss: 0.2524, Test accuracy: 91.67\n",
            "Epoch 10, Loss: 0.3063, Accuracy: 88.74, Test loss: 0.2462, Test accuracy: 91.88\n"
          ],
          "name": "stdout"
        }
      ]
    },
    {
      "cell_type": "markdown",
      "metadata": {
        "id": "NEAwugLybU13",
        "colab_type": "text"
      },
      "source": [
        "#### It remains very odd to me that our test accuracy remains better than training.. also appears we could continue to train this model for more epochs, as the test/validation accuracy continues to improve near the final epoch\n",
        "* One final note: what is the possible significance (or weirdness??) of the test/validation accuracy being exactly the same for the first three epochs?"
      ]
    }
  ]
}